{
 "cells": [
  {
   "cell_type": "code",
   "execution_count": 1,
   "metadata": {},
   "outputs": [],
   "source": [
    "# Python | Grayscaling of Images using OpenCV\n",
    "import cv2\n",
    "image = cv2.imread('D:\\\\OpenCV\\\\geeksforgeeks.png')\n",
    "cv2.imshow('Original',image)\n",
    "cv2.waitKey(0)\n",
    "\n",
    "# Use the cvtColor() function to grayscale the image\n",
    "gray_image = cv2.cvtColor(image,cv2.COLOR_BGR2GRAY)\n",
    "\n",
    "cv2.imshow(\"Grayscale\",gray_image)\n",
    "cv2.waitKey(0)\n",
    "\n",
    "cv2.destroyAllWindows()"
   ]
  },
  {
   "cell_type": "code",
   "execution_count": 1,
   "metadata": {},
   "outputs": [],
   "source": [
    "#  Using the cv2.imread() function with flag=zero\n",
    "import cv2\n",
    "img = cv2.imread('D:\\\\OpenCV\\\\geeksforgeeks.png',0)\n",
    "cv2.imshow('Grayscale Image',img)\n",
    "cv2.waitKey(0)\n",
    "cv2.destroyAllWindows()"
   ]
  },
  {
   "cell_type": "code",
   "execution_count": 2,
   "metadata": {},
   "outputs": [],
   "source": [
    "# Using the pixel manipulation (Average Method)\n",
    "import cv2\n",
    "img = cv2.imread('D:\\\\OpenCV\\\\geeksforgeeks.png')\n",
    "(row,col) = img.shape[0:2]\n",
    "for i in range(row):\n",
    "    for j in range(col):\n",
    "        img[i,j] = sum(img[i,j])*0.33\n",
    "cv2.imshow('Grayscale images',img)\n",
    "cv2.waitKey(0)\n",
    "cv2.destroyAllWindows()"
   ]
  },
  {
   "cell_type": "code",
   "execution_count": null,
   "metadata": {},
   "outputs": [],
   "source": []
  }
 ],
 "metadata": {
  "kernelspec": {
   "display_name": "Python 3",
   "language": "python",
   "name": "python3"
  },
  "language_info": {
   "codemirror_mode": {
    "name": "ipython",
    "version": 3
   },
   "file_extension": ".py",
   "mimetype": "text/x-python",
   "name": "python",
   "nbconvert_exporter": "python",
   "pygments_lexer": "ipython3",
   "version": "3.10.6"
  },
  "orig_nbformat": 4
 },
 "nbformat": 4,
 "nbformat_minor": 2
}
