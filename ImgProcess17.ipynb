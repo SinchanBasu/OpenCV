{
 "cells": [
  {
   "cell_type": "code",
   "execution_count": 1,
   "metadata": {},
   "outputs": [],
   "source": [
    "# Find Co-ordinates of Contours using OpenCV | Python\n",
    "# Python code to find the co-ordinates of the contours detected in an image\n",
    "import numpy as np\n",
    "import cv2\n",
    "\n",
    "# Reading Image\n",
    "font = cv2.FONT_HERSHEY_COMPLEX\n",
    "img2 = cv2.imread('test.jpg',cv2.IMREAD_COLOR)\n",
    "\n",
    "img = cv2.imread('test.jpg',cv2.IMREAD_GRAYSCALE)\n",
    "\n",
    "_, threshold = cv2.threshold(img,110,255,cv2.THRESH_BINARY)\n",
    "\n",
    "contours, _ = cv2.findContours(threshold,cv2.RETR_TREE,cv2.CHAIN_APPROX_SIMPLE)\n",
    "\n",
    "for cnt in contours:\n",
    "    approx = cv2.approxPolyDP(cnt,0.009 * cv2.arcLength(cnt,True),True)\n",
    "    cv2.drawContours(img2,[approx],0,(0,0,255),5)\n",
    "    n = approx.ravel()\n",
    "    i=0\n",
    "\n",
    "    for j in n:\n",
    "        if(i%2 == 0):\n",
    "          x = n[i]\n",
    "          y = n[i+1]\n",
    "          string = str(x) + \" \"+str(y)\n",
    "\n",
    "          if(i==0):\n",
    "             cv2.putText(img2,\"Arrow tip\",(x,y),\n",
    "                               font,0.5,(255,0,0))\n",
    "          else:\n",
    "             cv2.putText(img2,string,(x,y),\n",
    "                            font,0.5,(0,255,0))\n",
    "        i = i+1\n",
    "\n",
    "cv2.imshow('image2',img2)\n",
    "if cv2.waitKey(0) & 0xff==ord('q'):\n",
    "   cv2.destroyAllWindows()\n"
   ]
  },
  {
   "cell_type": "code",
   "execution_count": null,
   "metadata": {},
   "outputs": [],
   "source": []
  }
 ],
 "metadata": {
  "kernelspec": {
   "display_name": "Python 3",
   "language": "python",
   "name": "python3"
  },
  "language_info": {
   "codemirror_mode": {
    "name": "ipython",
    "version": 3
   },
   "file_extension": ".py",
   "mimetype": "text/x-python",
   "name": "python",
   "nbconvert_exporter": "python",
   "pygments_lexer": "ipython3",
   "version": "3.10.6"
  },
  "orig_nbformat": 4
 },
 "nbformat": 4,
 "nbformat_minor": 2
}
