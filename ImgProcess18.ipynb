{
 "cells": [
  {
   "cell_type": "code",
   "execution_count": 4,
   "metadata": {},
   "outputs": [],
   "source": [
    "# Python | Bilateral Filtering\n",
    "import cv2\n",
    "img = cv2.imread('taj.jpg')\n",
    "\n",
    "# Apply bilateral filter with d = 15\n",
    "# sigmaColor = sigmaSpace = 75\n",
    "bilateral = cv2.bilateralFilter(img,15,75,75)\n",
    "# cv2.imswrite('taj_bilateral.jpg',bilateral)\n",
    "cv2.imshow('taj_bilateral.jpg',bilateral)\n",
    "cv2.waitKey(0)\n",
    "cv2.destroyAllWindows()"
   ]
  },
  {
   "cell_type": "code",
   "execution_count": null,
   "metadata": {},
   "outputs": [],
   "source": []
  }
 ],
 "metadata": {
  "kernelspec": {
   "display_name": "Python 3",
   "language": "python",
   "name": "python3"
  },
  "language_info": {
   "codemirror_mode": {
    "name": "ipython",
    "version": 3
   },
   "file_extension": ".py",
   "mimetype": "text/x-python",
   "name": "python",
   "nbconvert_exporter": "python",
   "pygments_lexer": "ipython3",
   "version": "3.10.6"
  },
  "orig_nbformat": 4
 },
 "nbformat": 4,
 "nbformat_minor": 2
}
