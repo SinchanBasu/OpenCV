{
 "cells": [
  {
   "cell_type": "code",
   "execution_count": null,
   "metadata": {},
   "outputs": [],
   "source": [
    "# Image Pyramid using OpenCV | Python\n",
    "import cv2\n",
    "import matplotlib.pyplot as plt\n",
    "  \n",
    "img = cv2.imread(\"D:\\OpenCV\\pyramid.jpg\")\n",
    "  \n",
    "layer = img.copy()\n",
    "  \n",
    "for i in range(4):\n",
    "    plt.subplot(2, 2, i + 1)\n",
    "  \n",
    "    # using pyrDown() function\n",
    "    layer = cv2.pyrDown(layer)\n",
    "  \n",
    "    plt.imshow(layer)\n",
    "    cv2.imshow(\"str(i)\", layer)\n",
    "    cv2.waitKey(0)\n",
    "      \n",
    "  \n",
    "cv2.destroyAllWindows()"
   ]
  },
  {
   "cell_type": "code",
   "execution_count": null,
   "metadata": {},
   "outputs": [],
   "source": []
  }
 ],
 "metadata": {
  "kernelspec": {
   "display_name": "Python 3",
   "language": "python",
   "name": "python3"
  },
  "language_info": {
   "codemirror_mode": {
    "name": "ipython",
    "version": 3
   },
   "file_extension": ".py",
   "mimetype": "text/x-python",
   "name": "python",
   "nbconvert_exporter": "python",
   "pygments_lexer": "ipython3",
   "version": "3.10.6"
  },
  "orig_nbformat": 4
 },
 "nbformat": 4,
 "nbformat_minor": 2
}
