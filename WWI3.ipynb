{
 "cells": [
  {
   "cell_type": "code",
   "execution_count": 1,
   "metadata": {},
   "outputs": [],
   "source": [
    "# Color Spaces in OpenCV\n",
    "# Visualizing the different color channels of an RGB image\n",
    "import cv2\n",
    "image = cv2.imread('D://OpenCV//geeks.png')\n",
    "B,G,R = cv2.split(image)\n",
    "cv2.imshow(\"Original\",image)\n",
    "cv2.waitKey(0)\n",
    "\n",
    "cv2.imshow(\"Blue\",B)\n",
    "cv2.waitKey(0)\n",
    "\n",
    "cv2.imshow(\"Green\",G)\n",
    "cv2.waitKey(0)\n",
    "\n",
    "cv2.imshow(\"Red\",R)\n",
    "cv2.waitKey(0)\n",
    "\n",
    "cv2.destroyAllWindows()"
   ]
  },
  {
   "cell_type": "code",
   "execution_count": null,
   "metadata": {},
   "outputs": [],
   "source": []
  }
 ],
 "metadata": {
  "kernelspec": {
   "display_name": "Python 3",
   "language": "python",
   "name": "python3"
  },
  "language_info": {
   "codemirror_mode": {
    "name": "ipython",
    "version": 3
   },
   "file_extension": ".py",
   "mimetype": "text/x-python",
   "name": "python",
   "nbconvert_exporter": "python",
   "pygments_lexer": "ipython3",
   "version": "3.10.6"
  },
  "orig_nbformat": 4
 },
 "nbformat": 4,
 "nbformat_minor": 2
}
