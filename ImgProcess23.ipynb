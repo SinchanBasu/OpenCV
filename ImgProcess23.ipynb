{
 "cells": [
  {
   "cell_type": "code",
   "execution_count": 1,
   "metadata": {},
   "outputs": [],
   "source": [
    "# Background Subtraction in an Image using Concept of Running Average\n",
    "import cv2\n",
    "import numpy as np\n",
    "\n",
    "cap = cv2.VideoCapture(0)\n",
    "\n",
    "_, img = cap.read()\n",
    "\n",
    "averageValue1 = np.float32(img)\n",
    "\n",
    "while(1):\n",
    "    _, img = cap.read()\n",
    "    cv2.accumulateWeighted(img,averageValue1,0.02)\n",
    "    resultingFrames1 = cv2.convertScaleAbs(averageValue1)\n",
    "    cv2.imshow('InputWindow',img)\n",
    "    cv2.imshow('averageValue1',resultingFrames1)\n",
    "    k = cv2.waitKey(30) & 0xff\n",
    "    if k==27:\n",
    "        break\n",
    "\n",
    "cap.release()\n",
    "cv2.destroyAllWindows()"
   ]
  },
  {
   "cell_type": "code",
   "execution_count": null,
   "metadata": {},
   "outputs": [],
   "source": []
  }
 ],
 "metadata": {
  "kernelspec": {
   "display_name": "Python 3",
   "language": "python",
   "name": "python3"
  },
  "language_info": {
   "codemirror_mode": {
    "name": "ipython",
    "version": 3
   },
   "file_extension": ".py",
   "mimetype": "text/x-python",
   "name": "python",
   "nbconvert_exporter": "python",
   "pygments_lexer": "ipython3",
   "version": "3.10.6"
  },
  "orig_nbformat": 4
 },
 "nbformat": 4,
 "nbformat_minor": 2
}
