{
 "cells": [
  {
   "cell_type": "code",
   "execution_count": 3,
   "metadata": {},
   "outputs": [],
   "source": [
    "# Python | Thresholding techniques using OpenCV | Set-1 (Simple Thresholding)\n",
    "import cv2\n",
    "import numpy as np\n",
    "image1  = cv2.imread('input7.png')\n",
    "\n",
    "img = cv2.cvtColor(image1,cv2.COLOR_BGR2GRAY)\n",
    "\n",
    "ret,thresh1 = cv2.threshold(img,120,255,cv2.THRESH_BINARY)\n",
    "ret,thresh2 = cv2.threshold(img,120,255,cv2.THRESH_BINARY_INV)\n",
    "ret,thresh3 = cv2.threshold(img,120,255,cv2.THRESH_TRUNC)\n",
    "ret,thresh4 = cv2.threshold(img,120,255,cv2.THRESH_TOZERO)\n",
    "ret,thresh5 = cv2.threshold(img,120,255,cv2.THRESH_TOZERO_INV)\n",
    "\n",
    "cv2.imshow('Binary Threshold',thresh1)\n",
    "cv2.imshow('Binary Threshold Inverted',thresh2)\n",
    "cv2.imshow('Truncated Threshold',thresh3)\n",
    "cv2.imshow('Set to 0',thresh4)\n",
    "cv2.imshow('Set to 0 Inverted',thresh5)\n",
    "\n",
    "# Deallocate any associated memory usage\n",
    "if cv2.waitKey(0) & 0xff == 27:\n",
    "    cv2.destroyAllWindows()"
   ]
  },
  {
   "cell_type": "code",
   "execution_count": null,
   "metadata": {},
   "outputs": [],
   "source": []
  }
 ],
 "metadata": {
  "kernelspec": {
   "display_name": "Python 3",
   "language": "python",
   "name": "python3"
  },
  "language_info": {
   "codemirror_mode": {
    "name": "ipython",
    "version": 3
   },
   "file_extension": ".py",
   "mimetype": "text/x-python",
   "name": "python",
   "nbconvert_exporter": "python",
   "pygments_lexer": "ipython3",
   "version": "3.10.6"
  },
  "orig_nbformat": 4
 },
 "nbformat": 4,
 "nbformat_minor": 2
}
