{
 "cells": [
  {
   "cell_type": "code",
   "execution_count": null,
   "metadata": {},
   "outputs": [],
   "source": [
    "# Image Resizing using OpenCV Python\n",
    "# Choice of Interpolation Method for Resizing:\n",
    "\n",
    "# cv2.INTER_AREA: This is used when we need to shrink an image.\n",
    "# cv2.INTER_CUBIC: This is slow but more efficient.\n",
    "# cv2.INTER_LINEAR: This is primarily used when zooming is required. This is the default interpolation technique in OpenCV.\n",
    "# Syntax: cv2.resize(source, dsize, dest, fx, fy, interpolation)"
   ]
  },
  {
   "cell_type": "code",
   "execution_count": null,
   "metadata": {},
   "outputs": [],
   "source": [
    "import cv2\n",
    "import numpy as np\n",
    "import matplotlib.pyplot as plt\n",
    "\n",
    "image = cv2.imread(r'D:\\OpenCV\\geeksforgeeks.png')\n",
    "\n",
    "half = cv2.resize(image,(0,0), fx=0.1,fy=0.1)\n",
    "bigger = cv2.resize(image,(1050,1610))\n",
    "\n",
    "stretch_near = cv2.resize(image,(780,540),\n",
    "                           interpolation=cv2.INTER_LINEAR)\n",
    "\n",
    "Titles = [\"Original\",\"Half\",\"Bigger\",\"Interpolation Nearest\"]\n",
    "images = [image,half,bigger,stretch_near]\n",
    "count = 4\n",
    "\n",
    "for i in range(count):\n",
    "    plt.subplot(2,2,i+1)\n",
    "    plt.title(Titles[i])\n",
    "    plt.imshow(images[i])"
   ]
  }
 ],
 "metadata": {
  "language_info": {
   "name": "python"
  },
  "orig_nbformat": 4
 },
 "nbformat": 4,
 "nbformat_minor": 2
}
