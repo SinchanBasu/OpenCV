{
 "cells": [
  {
   "cell_type": "code",
   "execution_count": 1,
   "metadata": {},
   "outputs": [],
   "source": [
    "# Python | Morphological Operations in Image Processing (Closing) |Set-2\n",
    "import cv2\n",
    "import numpy as np\n",
    "screenRead = cv2.VideoCapture(0)\n",
    "while(1):\n",
    "    _, image = screenRead.read()\n",
    "    hsv = cv2.cvtColor(image,cv2.COLOR_BGR2HSV)\n",
    "    blue1 = np.array([110,50,50])\n",
    "    blue2 = np.array([130,255,255])\n",
    "    mask = cv2.inRange(hsv,blue1,blue2)\n",
    "    res = cv2.bitwise_and(image,image,mask=mask)\n",
    "    kernel = np.ones((5,5),np.uint8)\n",
    "    closing = cv2.morphologyEx(mask,cv2.MORPH_CLOSE,kernel)\n",
    "    cv2.imshow('Mask',mask)\n",
    "    cv2.imshow('Closing',closing)\n",
    "    if cv2.waitKey(1) & 0xFF == ord('a'):\n",
    "        break\n",
    "\n",
    "cv2.destroyAllWindows()\n",
    "screenRead.release()"
   ]
  },
  {
   "cell_type": "code",
   "execution_count": null,
   "metadata": {},
   "outputs": [],
   "source": []
  }
 ],
 "metadata": {
  "kernelspec": {
   "display_name": "Python 3",
   "language": "python",
   "name": "python3"
  },
  "language_info": {
   "codemirror_mode": {
    "name": "ipython",
    "version": 3
   },
   "file_extension": ".py",
   "mimetype": "text/x-python",
   "name": "python",
   "nbconvert_exporter": "python",
   "pygments_lexer": "ipython3",
   "version": "3.10.6"
  },
  "orig_nbformat": 4
 },
 "nbformat": 4,
 "nbformat_minor": 2
}
