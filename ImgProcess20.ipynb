{
 "cells": [
  {
   "cell_type": "code",
   "execution_count": 6,
   "metadata": {},
   "outputs": [],
   "source": [
    "# Python | Intensity Transformation Operations On Images\n",
    "# Log Transformations\n",
    "import cv2\n",
    "import numpy as np\n",
    "img = cv2.imread('sample.jpg')\n",
    "# Apply log transform\n",
    "c = 255/(np.log(1 + np.max(img)))\n",
    "log_transformed = c * np.log(1 + img)\n",
    "\n",
    "# Specify the data type\n",
    "log_transformed = np.array(log_transformed,dtype=np.uint8)\n",
    "# Save the output\n",
    "cv2.imwrite('log_transformed.jpg',log_transformed)\n",
    "cv2.imshow('log_transformed',log_transformed)\n",
    "cv2.waitKey(0)\n",
    "cv2.destroyAllWindows()"
   ]
  },
  {
   "cell_type": "code",
   "execution_count": 8,
   "metadata": {},
   "outputs": [],
   "source": [
    "# Power_Law (Gamma) Transformation - \n",
    "import cv2\n",
    "import numpy as np\n",
    "img = cv2.imread('sample.jpg')\n",
    "# Trying 4 gamma values\n",
    "for gamma in [0.1,0.5,1.2,2.2]:\n",
    "    # Apply gamma correction.\n",
    "    gamma_corrected = np.array(255*(img / 255) ** gamma,dtype='uint8')\n",
    "    # Save edited images\n",
    "    cv2.imwrite('gamma_transformed'+str(gamma)+'.jpg',gamma_corrected)\n",
    "    cv2.imshow('gamma_transformed'+str(gamma)+'.jpg',gamma_corrected)\n",
    "    cv2.waitKey(0)\n",
    "    cv2.destroyAllWindows()"
   ]
  },
  {
   "cell_type": "code",
   "execution_count": null,
   "metadata": {},
   "outputs": [],
   "source": []
  }
 ],
 "metadata": {
  "kernelspec": {
   "display_name": "Python 3",
   "language": "python",
   "name": "python3"
  },
  "language_info": {
   "name": "python",
   "version": "3.10.6"
  },
  "orig_nbformat": 4
 },
 "nbformat": 4,
 "nbformat_minor": 2
}
