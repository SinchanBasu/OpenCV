{
 "cells": [
  {
   "cell_type": "code",
   "execution_count": null,
   "metadata": {},
   "outputs": [],
   "source": [
    "import cv2\n",
    "import numpy as np\n",
    "import matplotlib.pyplot as plt\n",
    "\n",
    "# Load the image\n",
    "img = cv2.imread('BankCheque1.webp')\n",
    "\n",
    "# Convert the image to grayscale\n",
    "gray = cv2.cvtColor(img, cv2.COLOR_BGR2GRAY)\n",
    "\n",
    "# Apply binary thresholding to the image\n",
    "thresh = cv2.threshold(gray, 0, 255, cv2.THRESH_BINARY_INV + cv2.THRESH_OTSU)[1]\n",
    "\n",
    "# Find contours in the image\n",
    "contours, hierarchy = cv2.findContours(thresh, cv2.RETR_EXTERNAL, cv2.CHAIN_APPROX_SIMPLE)\n",
    "\n",
    "# Initialize a list to store the coordinates of each contour's bounding rectangle\n",
    "rect_coords = []\n",
    "\n",
    "# Iterate through the contours and store their bounding rectangle coordinates\n",
    "for cnt in contours:\n",
    "    x, y, w, h = cv2.boundingRect(cnt)\n",
    "    rect_coords.append((x, y, x + w, y + h))\n",
    "\n",
    "# Sort the list of rectangle coordinates from top to bottom\n",
    "rect_coords.sort(key=lambda x: x[1])\n",
    "\n",
    "# Extract the Bank Name, Date, Payable To, and Signature areas based on their positions\n",
    "bank_name = img[rect_coords[0][1]:rect_coords[1][1], rect_coords[0][0]:rect_coords[2][0]]\n",
    "date = img[rect_coords[2][1]:rect_coords[3][1], rect_coords[0][0]:rect_coords[2][0]]\n",
    "payable_to = img[rect_coords[3][1]:rect_coords[4][1], rect_coords[0][0]:rect_coords[2][0]]\n",
    "signature = img[rect_coords[-1][1]:rect_coords[-1][3], rect_coords[-1][0]:rect_coords[-1][2]]\n",
    "\n",
    "# Draw the detected rectangular areas on the image\n",
    "for rect in rect_coords:\n",
    "    cv2.rectangle(img, (rect[0], rect[1]), (rect[2], rect[3]), (0, 0, 255), 2)\n",
    "\n",
    "# Display the results using Matplotlib\n",
    "fig, ax = plt.subplots(1, 5, figsize=(20, 5))\n",
    "ax[0].imshow(bank_name)\n",
    "ax[0].set_title('Bank Name')\n",
    "ax[1].imshow(date)\n",
    "ax[1].set_title('Date')\n",
    "ax[2].imshow(payable_to)\n",
    "ax[2].set_title('Payable To')\n",
    "ax[3].imshow(signature)\n",
    "ax[3].set_title('Signature')\n",
    "ax[4].imshow(cv2.cvtColor(img, cv2.COLOR_BGR2RGB))\n",
    "ax[4].set_title('Detected Areas')\n",
    "plt.imshow()\n"
   ]
  },
  {
   "cell_type": "code",
   "execution_count": null,
   "metadata": {},
   "outputs": [],
   "source": []
  }
 ],
 "metadata": {
  "kernelspec": {
   "display_name": "Python 3",
   "language": "python",
   "name": "python3"
  },
  "language_info": {
   "codemirror_mode": {
    "name": "ipython",
    "version": 3
   },
   "file_extension": ".py",
   "mimetype": "text/x-python",
   "name": "python",
   "nbconvert_exporter": "python",
   "pygments_lexer": "ipython3",
   "version": "3.10.6"
  },
  "orig_nbformat": 4
 },
 "nbformat": 4,
 "nbformat_minor": 2
}
