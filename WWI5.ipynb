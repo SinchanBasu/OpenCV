{
 "cells": [
  {
   "cell_type": "code",
   "execution_count": 1,
   "metadata": {},
   "outputs": [],
   "source": [
    "#  Arithmetic Operations on Images using OpenCV | Set-2(Bitwise Operations on Binary Images)\n",
    "import cv2\n",
    "import numpy as np\n",
    "\n",
    "img1 = cv2.imread('input5.png')\n",
    "img2 = cv2.imread('input6.png')\n",
    "\n",
    "dest_and = cv2.bitwise_and(img2,img1,mask=None)\n",
    "\n",
    "cv2.imshow(\"Bitwise AND \",dest_and)\n",
    "\n",
    "if cv2.waitKey(0) & 0xff == 27:\n",
    "    cv2.destroyAllWindows()\n"
   ]
  },
  {
   "cell_type": "code",
   "execution_count": 2,
   "metadata": {},
   "outputs": [],
   "source": [
    "import cv2\n",
    "import numpy as np\n",
    "\n",
    "img1 = cv2.imread('input5.png')\n",
    "img2 = cv2.imread('input6.png')\n",
    "\n",
    "dest_or = cv2.bitwise_or(img2,img1,mask=None)\n",
    "\n",
    "cv2.imshow(\"Bitwise OR\",dest_or)\n",
    "\n",
    "if cv2.waitKey(0) & 0xff == 27:\n",
    "    cv2.destroyAllWindows()"
   ]
  },
  {
   "cell_type": "code",
   "execution_count": 3,
   "metadata": {},
   "outputs": [],
   "source": [
    "import cv2\n",
    "import numpy as np\n",
    "\n",
    "img1 = cv2.imread('input5.png')\n",
    "img2 = cv2.imread('input6.png')\n",
    "\n",
    "dest_xor = cv2.bitwise_xor(img2,img1,mask=None)\n",
    "\n",
    "cv2.imshow(\"Bitwise XOR\",dest_xor)\n",
    "\n",
    "if cv2.waitKey(0) & 0xff==27:\n",
    "    cv2.destroyAllWindows()"
   ]
  },
  {
   "cell_type": "code",
   "execution_count": 4,
   "metadata": {},
   "outputs": [],
   "source": [
    "import cv2\n",
    "import numpy as np\n",
    "\n",
    "img1 = cv2.imread('input5.png')\n",
    "img2 = cv2.imread('input6.png')\n",
    "\n",
    "dest_not1 = cv2.bitwise_not(img1,mask=None)\n",
    "dest_not2 = cv2.bitwise_not(img2,mask=None)\n",
    "\n",
    "cv2.imshow(\"Bitwise NOT on image 1\",dest_not1)\n",
    "cv2.imshow(\"Bitwise NOT on image 2\",dest_not2)\n",
    "\n",
    "if cv2.waitKey(0) & 0xff==27:\n",
    "    cv2.destroyAllWindows()"
   ]
  },
  {
   "cell_type": "code",
   "execution_count": null,
   "metadata": {},
   "outputs": [],
   "source": []
  }
 ],
 "metadata": {
  "kernelspec": {
   "display_name": "Python 3",
   "language": "python",
   "name": "python3"
  },
  "language_info": {
   "codemirror_mode": {
    "name": "ipython",
    "version": 3
   },
   "file_extension": ".py",
   "mimetype": "text/x-python",
   "name": "python",
   "nbconvert_exporter": "python",
   "pygments_lexer": "ipython3",
   "version": "3.10.6"
  },
  "orig_nbformat": 4
 },
 "nbformat": 4,
 "nbformat_minor": 2
}
