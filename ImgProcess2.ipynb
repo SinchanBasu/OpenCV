{
 "cells": [
  {
   "cell_type": "code",
   "execution_count": 1,
   "metadata": {},
   "outputs": [],
   "source": [
    "# Python OpenCV | cv2.erode() method\n",
    "# Python program to explain cv2.erode() method\n",
    "\n",
    "import cv2\n",
    "import numpy as np\n",
    "\n",
    "path = r'D:\\OpenCV\\gfg.png'\n",
    "image = cv2.imread(path)\n",
    "\n",
    "window_name = 'Image'\n",
    "\n",
    "kernel = np.ones((5,5),np.uint8)\n",
    "image = cv2.erode(image,kernel)\n",
    "cv2.imshow(window_name,image)\n",
    "cv2.waitKey(0)\n",
    "cv2.destroyAllWindows()"
   ]
  },
  {
   "cell_type": "code",
   "execution_count": 3,
   "metadata": {},
   "outputs": [],
   "source": [
    "import cv2\n",
    "import numpy as np\n",
    "path = r'D:\\OpenCV\\gfg.png'\n",
    "image = cv2.imread(path)\n",
    "window_name = 'Image'\n",
    "kernel = np.ones((6,6),np.uint8)\n",
    "image = cv2.erode(image,kernel,cv2.BORDER_REFLECT)\n",
    "cv2.imshow(window_name,image)\n",
    "cv2.waitKey(0)\n",
    "cv2.destroyAllWindows()"
   ]
  },
  {
   "cell_type": "code",
   "execution_count": null,
   "metadata": {},
   "outputs": [],
   "source": []
  }
 ],
 "metadata": {
  "kernelspec": {
   "display_name": "Python 3",
   "language": "python",
   "name": "python3"
  },
  "language_info": {
   "codemirror_mode": {
    "name": "ipython",
    "version": 3
   },
   "file_extension": ".py",
   "mimetype": "text/x-python",
   "name": "python",
   "nbconvert_exporter": "python",
   "pygments_lexer": "ipython3",
   "version": "3.10.6"
  },
  "orig_nbformat": 4
 },
 "nbformat": 4,
 "nbformat_minor": 2
}
