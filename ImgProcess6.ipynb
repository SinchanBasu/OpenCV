{
 "cells": [
  {
   "cell_type": "code",
   "execution_count": 2,
   "metadata": {},
   "outputs": [],
   "source": [
    "# Image Processing in Python (Scaling, Rotating, Shifting and Edge Detection)\n",
    "# Scaling an image\n",
    "import cv2\n",
    "import numpy as np\n",
    "\n",
    "FILE_NAME = 'Volleyball.png'\n",
    "try:\n",
    "    img = cv2.imread(FILE_NAME)\n",
    "    (height,width) = img.shape[:2]\n",
    "    res = cv2.resize(img,(int(width/2),int(height/2)),interpolation=cv2.INTER_CUBIC)\n",
    "    cv2.imwrite('result.png',res)\n",
    "except IOError:\n",
    "    print('Error while reading files !!!')"
   ]
  },
  {
   "cell_type": "code",
   "execution_count": 4,
   "metadata": {},
   "outputs": [],
   "source": [
    "# Rotating an Image\n",
    "import cv2\n",
    "import numpy as np\n",
    "FILE_NAME='volleyball.png'\n",
    "try:\n",
    "    img = cv2.imread(FILE_NAME)\n",
    "    (rows,cols) = img.shape[:2]\n",
    "    M = cv2.getRotationMatrix2D((cols/2,rows/2),45,1)\n",
    "    res = cv2.warpAffine(img,M,(cols,rows))\n",
    "    cv2.imwrite('result1.png',res)\n",
    "except IOError:\n",
    "    print('Error while reading files!!!')"
   ]
  },
  {
   "cell_type": "code",
   "execution_count": 5,
   "metadata": {},
   "outputs": [],
   "source": [
    "# Translating an image\n",
    "import cv2\n",
    "import numpy as np\n",
    "\n",
    "FILE_NAME = 'volleyball.png'\n",
    "M = np.float32([[1,0,100],[0,1,50]])\n",
    "\n",
    "try:\n",
    "    img = cv2.imread(FILE_NAME)\n",
    "    (rows,cols) = img.shape[:2]\n",
    "    res = cv2.warpAffine(img,M,(cols,rows))\n",
    "    cv2.imwrite('result2.png',res)\n",
    "except IOError:\n",
    "    print('Error while reading files!!!')"
   ]
  },
  {
   "cell_type": "code",
   "execution_count": 7,
   "metadata": {},
   "outputs": [],
   "source": [
    "# Edge Detection in an Image\n",
    "import cv2\n",
    "import numpy as np\n",
    "FILE_NAME = 'volleyball.png'\n",
    "try : \n",
    "    img = cv2.imread(FILE_NAME)\n",
    "    edges = cv2.Canny(img,100,200)\n",
    "    cv2.imwrite('result3.jpg',edges)\n",
    "except IOError:\n",
    "    print('Error while reading files!!!')"
   ]
  },
  {
   "cell_type": "code",
   "execution_count": null,
   "metadata": {},
   "outputs": [],
   "source": []
  }
 ],
 "metadata": {
  "kernelspec": {
   "display_name": "Python 3",
   "language": "python",
   "name": "python3"
  },
  "language_info": {
   "codemirror_mode": {
    "name": "ipython",
    "version": 3
   },
   "file_extension": ".py",
   "mimetype": "text/x-python",
   "name": "python",
   "nbconvert_exporter": "python",
   "pygments_lexer": "ipython3",
   "version": "3.10.6"
  },
  "orig_nbformat": 4
 },
 "nbformat": 4,
 "nbformat_minor": 2
}
