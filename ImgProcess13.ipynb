{
 "cells": [
  {
   "cell_type": "code",
   "execution_count": 2,
   "metadata": {},
   "outputs": [],
   "source": [
    "# Python OpenCV | cv2.cvtColor() method\n",
    "# To GratScale\n",
    "import cv2\n",
    "path = r'D:\\OpenCV\\gfg.png'\n",
    "src = cv2.imread(path)\n",
    "window_name = 'Image'\n",
    "image = cv2.cvtColor(src,cv2.COLOR_BGR2GRAY)\n",
    "cv2.imshow(window_name,image)\n",
    "cv2.waitKey(0)\n",
    "cv2.destroyAllWindows()\n"
   ]
  },
  {
   "cell_type": "code",
   "execution_count": 3,
   "metadata": {},
   "outputs": [],
   "source": [
    "import cv2\n",
    "path = r'D:\\OpenCV\\gfg.png'\n",
    "src=cv2.imread(path)\n",
    "window_name='Image'\n",
    "image = cv2.cvtColor(src,cv2.COLOR_BGR2HSV)\n",
    "cv2.imshow(window_name,image)\n",
    "cv2.waitKey(0)\n",
    "cv2.destroyAllWindows()"
   ]
  },
  {
   "cell_type": "code",
   "execution_count": null,
   "metadata": {},
   "outputs": [],
   "source": []
  }
 ],
 "metadata": {
  "kernelspec": {
   "display_name": "Python 3",
   "language": "python",
   "name": "python3"
  },
  "language_info": {
   "codemirror_mode": {
    "name": "ipython",
    "version": 3
   },
   "file_extension": ".py",
   "mimetype": "text/x-python",
   "name": "python",
   "nbconvert_exporter": "python",
   "pygments_lexer": "ipython3",
   "version": "3.10.6"
  },
  "orig_nbformat": 4
 },
 "nbformat": 4,
 "nbformat_minor": 2
}
