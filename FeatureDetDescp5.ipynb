{
 "cells": [
  {
   "cell_type": "code",
   "execution_count": 1,
   "metadata": {},
   "outputs": [],
   "source": [
    "# Python | Corner detection with Harris Corner Detection method using OpenCV\n",
    "import cv2\n",
    "import numpy as np\n",
    "image = cv2.imread('input7.png')\n",
    "operatedImage = cv2.cvtColor(image,cv2.COLOR_BGR2GRAY)\n",
    "operatedImage = np.float32(operatedImage)\n",
    "dest = cv2.cornerHarris(operatedImage,2,5,0.07)\n",
    "dest = cv2.dilate(dest,None)\n",
    "image[dest > 0.01 * dest.max()] = [0,0,255]\n",
    "cv2.imshow('Image with Borders',image)\n",
    "if cv2.waitKey(0) & 0xff == 27:\n",
    "    cv2.destroyAllWindows()"
   ]
  },
  {
   "cell_type": "code",
   "execution_count": null,
   "metadata": {},
   "outputs": [],
   "source": []
  }
 ],
 "metadata": {
  "kernelspec": {
   "display_name": "Python 3",
   "language": "python",
   "name": "python3"
  },
  "language_info": {
   "codemirror_mode": {
    "name": "ipython",
    "version": 3
   },
   "file_extension": ".py",
   "mimetype": "text/x-python",
   "name": "python",
   "nbconvert_exporter": "python",
   "pygments_lexer": "ipython3",
   "version": "3.10.6"
  },
  "orig_nbformat": 4
 },
 "nbformat": 4,
 "nbformat_minor": 2
}
