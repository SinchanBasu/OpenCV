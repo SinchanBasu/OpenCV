{
 "cells": [
  {
   "cell_type": "code",
   "execution_count": 10,
   "metadata": {},
   "outputs": [
    {
     "data": {
      "text/plain": [
       "True"
      ]
     },
     "execution_count": 10,
     "metadata": {},
     "output_type": "execute_result"
    }
   ],
   "source": [
    "# Line Detection in Python with OpenCV | Houghline method\n",
    "# Python program to illustrate HoughLine\n",
    "# method for line detection\n",
    "import cv2\n",
    "import numpy as np\n",
    "  \n",
    "# Reading the required image in\n",
    "# which operations are to be done.\n",
    "# Make sure that the image is in the same\n",
    "# directory in which this python program is\n",
    "img = cv2.imread('input7.png')\n",
    "  \n",
    "# Convert the img to grayscale\n",
    "gray = cv2.cvtColor(img, cv2.COLOR_BGR2GRAY)\n",
    "  \n",
    "# Apply edge detection method on the image\n",
    "edges = cv2.Canny(gray, 50, 150, apertureSize=3)\n",
    "  \n",
    "# This returns an array of r and theta values\n",
    "lines = cv2.HoughLines(edges, 1, np.pi/180, 200)\n",
    "  \n",
    "# The below for loop runs till r and theta values\n",
    "# are in the range of the 2d array\n",
    "for r_theta in lines:\n",
    "    arr = np.array(r_theta[0], dtype=np.float64)\n",
    "    r, theta = arr\n",
    "    # Stores the value of cos(theta) in a\n",
    "    a = np.cos(theta)\n",
    "  \n",
    "    # Stores the value of sin(theta) in b\n",
    "    b = np.sin(theta)\n",
    "  \n",
    "    # x0 stores the value rcos(theta)\n",
    "    x0 = a*r\n",
    "  \n",
    "    # y0 stores the value rsin(theta)\n",
    "    y0 = b*r\n",
    "  \n",
    "    # x1 stores the rounded off value of (rcos(theta)-1000sin(theta))\n",
    "    x1 = int(x0 + 1000*(-b))\n",
    "  \n",
    "    # y1 stores the rounded off value of (rsin(theta)+1000cos(theta))\n",
    "    y1 = int(y0 + 1000*(a))\n",
    "  \n",
    "    # x2 stores the rounded off value of (rcos(theta)+1000sin(theta))\n",
    "    x2 = int(x0 - 1000*(-b))\n",
    "  \n",
    "    # y2 stores the rounded off value of (rsin(theta)-1000cos(theta))\n",
    "    y2 = int(y0 - 1000*(a))\n",
    "  \n",
    "    # cv2.line draws a line in img from the point(x1,y1) to (x2,y2).\n",
    "    # (0,0,255) denotes the colour of the line to be\n",
    "    # drawn. In this case, it is red.\n",
    "    cv2.line(img, (x1, y1), (x2, y2), (0, 0, 255), 2)\n",
    "  \n",
    "# All the changes made in the input image are finally\n",
    "# written on a new image houghlines.jpg\n",
    "cv2.imwrite('linesDetected.jpg', img)"
   ]
  },
  {
   "cell_type": "code",
   "execution_count": 13,
   "metadata": {},
   "outputs": [
    {
     "data": {
      "text/plain": [
       "True"
      ]
     },
     "execution_count": 13,
     "metadata": {},
     "output_type": "execute_result"
    }
   ],
   "source": [
    "# Alternative simpler method for directly extracting points\n",
    "import cv2\n",
    "import numpy as np\n",
    "image = cv2.imread('D:\\OpenCV\\Snow.png')\n",
    "gray = cv2.cvtColor(image,cv2.COLOR_BGR2GRAY)\n",
    "edges = cv2.Canny(gray,50,150,apertureSize=3)\n",
    "lines_list = []\n",
    "lines = cv2.HoughLinesP(\n",
    "    edges,\n",
    "    1,\n",
    "    np.pi/180,\n",
    "    threshold=100,\n",
    "    minLineLength=5,\n",
    "    maxLineGap=10\n",
    ")\n",
    "for points in lines : \n",
    "    x1,y1,x2,y2 = points[0]\n",
    "    cv2.line(image,(x1,y1),(x2,y2),(0,255,0),2)\n",
    "    lines_list.append([(x1,y1),(x2,y2)])\n",
    "\n",
    "cv2.imwrite('detectedLines.png',image)"
   ]
  },
  {
   "cell_type": "code",
   "execution_count": null,
   "metadata": {},
   "outputs": [],
   "source": []
  }
 ],
 "metadata": {
  "kernelspec": {
   "display_name": "Python 3",
   "language": "python",
   "name": "python3"
  },
  "language_info": {
   "codemirror_mode": {
    "name": "ipython",
    "version": 3
   },
   "file_extension": ".py",
   "mimetype": "text/x-python",
   "name": "python",
   "nbconvert_exporter": "python",
   "pygments_lexer": "ipython3",
   "version": "3.10.6"
  },
  "orig_nbformat": 4
 },
 "nbformat": 4,
 "nbformat_minor": 2
}
