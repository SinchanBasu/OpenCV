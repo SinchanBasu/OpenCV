{
 "cells": [
  {
   "cell_type": "code",
   "execution_count": 1,
   "metadata": {},
   "outputs": [
    {
     "name": "stdout",
     "output_type": "stream",
     "text": [
      "Before saving image : \n",
      "['geeks.png', 'geeksforgeeks.png', 'WWI.ipynb', 'WWI2.ipynb']\n",
      "After saving image : \n",
      "['geeks.png', 'geeksforgeeks.png', 'savedImage.jpg', 'WWI.ipynb', 'WWI2.ipynb']\n",
      "Successfully saved\n"
     ]
    }
   ],
   "source": [
    "import cv2\n",
    "import os\n",
    "image_path = r'D:\\OpenCV\\geeks.png'\n",
    "directory = r'D:\\OpenCV'\n",
    "img = cv2.imread(image_path)\n",
    "os.chdir(directory)\n",
    "print(\"Before saving image : \")\n",
    "print(os.listdir(directory))\n",
    "filename = 'savedImage.jpg'\n",
    "cv2.imwrite(filename,img)\n",
    "print(\"After saving image : \")\n",
    "print(os.listdir(directory))\n",
    "print(\"Successfully saved\")"
   ]
  },
  {
   "cell_type": "code",
   "execution_count": null,
   "metadata": {},
   "outputs": [],
   "source": []
  }
 ],
 "metadata": {
  "kernelspec": {
   "display_name": "Python 3",
   "language": "python",
   "name": "python3"
  },
  "language_info": {
   "codemirror_mode": {
    "name": "ipython",
    "version": 3
   },
   "file_extension": ".py",
   "mimetype": "text/x-python",
   "name": "python",
   "nbconvert_exporter": "python",
   "pygments_lexer": "ipython3",
   "version": "3.10.6"
  },
  "orig_nbformat": 4
 },
 "nbformat": 4,
 "nbformat_minor": 2
}
