{
 "cells": [
  {
   "cell_type": "code",
   "execution_count": 1,
   "metadata": {},
   "outputs": [
    {
     "ename": "AttributeError",
     "evalue": "'NoneType' object has no attribute 'shape'",
     "output_type": "error",
     "traceback": [
      "\u001b[1;31m---------------------------------------------------------------------------\u001b[0m",
      "\u001b[1;31mAttributeError\u001b[0m                            Traceback (most recent call last)",
      "Cell \u001b[1;32mIn[1], line 43\u001b[0m\n\u001b[0;32m     40\u001b[0m template_add \u001b[39m=\u001b[39m cv2\u001b[39m.\u001b[39mimread(\u001b[39m'\u001b[39m\u001b[39mdoc_address.png\u001b[39m\u001b[39m'\u001b[39m, \u001b[39m0\u001b[39m)\n\u001b[0;32m     41\u001b[0m template_prev \u001b[39m=\u001b[39m cv2\u001b[39m.\u001b[39mimread(\u001b[39m'\u001b[39m\u001b[39mdoc_prev_policy.png\u001b[39m\u001b[39m'\u001b[39m, \u001b[39m0\u001b[39m)\n\u001b[1;32m---> 43\u001b[0m img \u001b[39m=\u001b[39m getBoxed(img\u001b[39m.\u001b[39;49mcopy(), img_gray\u001b[39m.\u001b[39;49mcopy(),\n\u001b[0;32m     44\u001b[0m                    template_add, \u001b[39m'\u001b[39;49m\u001b[39maddress\u001b[39;49m\u001b[39m'\u001b[39;49m)\n\u001b[0;32m     46\u001b[0m img \u001b[39m=\u001b[39m getBoxed(img\u001b[39m.\u001b[39mcopy(), img_gray\u001b[39m.\u001b[39mcopy(),\n\u001b[0;32m     47\u001b[0m                template_prev, \u001b[39m'\u001b[39m\u001b[39mprev_policy_no\u001b[39m\u001b[39m'\u001b[39m)\n\u001b[0;32m     49\u001b[0m cv2\u001b[39m.\u001b[39mimshow(\u001b[39m'\u001b[39m\u001b[39mDetected\u001b[39m\u001b[39m'\u001b[39m, img)\n",
      "Cell \u001b[1;32mIn[1], line 9\u001b[0m, in \u001b[0;36mgetBoxed\u001b[1;34m(img, img_gray, template, field_name)\u001b[0m\n\u001b[0;32m      8\u001b[0m \u001b[39mdef\u001b[39;00m \u001b[39mgetBoxed\u001b[39m(img,img_gray,template,field_name \u001b[39m=\u001b[39m \u001b[39m\"\u001b[39m\u001b[39mpolicy_no\u001b[39m\u001b[39m\"\u001b[39m):\n\u001b[1;32m----> 9\u001b[0m     w, h \u001b[39m=\u001b[39m template\u001b[39m.\u001b[39;49mshape[::\u001b[39m-\u001b[39m\u001b[39m1\u001b[39m] \n\u001b[0;32m     11\u001b[0m     \u001b[39m# Apply template matching\u001b[39;00m\n\u001b[0;32m     12\u001b[0m     res \u001b[39m=\u001b[39m cv2\u001b[39m.\u001b[39mmatchTemplate(img_gray, template,\n\u001b[0;32m     13\u001b[0m                            cv2\u001b[39m.\u001b[39mTM_CCOEFF_NORMED)\n",
      "\u001b[1;31mAttributeError\u001b[0m: 'NoneType' object has no attribute 'shape'"
     ]
    }
   ],
   "source": [
    "# Python | Document field detection using Template Matching\n",
    "import numpy as np\n",
    "import imutils\n",
    "import cv2\n",
    "field_threshold = { \"previous_policy_no\" : 0.7,\n",
    "                    \"address\" : 0.6,\n",
    "                  }\n",
    "def getBoxed(img,img_gray,template,field_name = \"policy_no\"):\n",
    "    w, h = template.shape[::-1] \n",
    "  \n",
    "    # Apply template matching\n",
    "    res = cv2.matchTemplate(img_gray, template,\n",
    "                           cv2.TM_CCOEFF_NORMED)\n",
    "  \n",
    "    hits = np.where(res >= field_threshold[field_name])\n",
    "  \n",
    "    # Draw a rectangle around the matched region. \n",
    "    for pt in zip(*hits[::-1]): \n",
    "        cv2.rectangle(img, pt, (pt[0] + w, pt[1] + h),\n",
    "                                    (0, 255, 255), 2)\n",
    "  \n",
    "        y = pt[1] - 10 if pt[1] - 10 > 10 else pt[1] + h + 20\n",
    "  \n",
    "        cv2.putText(img, field_name, (pt[0], y),\n",
    "            cv2.FONT_HERSHEY_SIMPLEX, 0.8, (0, 0, 255), 1)\n",
    "  \n",
    "    return img\n",
    "  \n",
    "  \n",
    "# Driver Function\n",
    "if __name__ == '__main__':\n",
    "  \n",
    "    # Read the original document image\n",
    "    img = cv2.imread('doc.png')\n",
    "        \n",
    "    # 3-d to 2-d conversion\n",
    "    img_gray = cv2.cvtColor(img, cv2.COLOR_BGR2GRAY)\n",
    "       \n",
    "    # Field templates\n",
    "    template_add = cv2.imread('doc_address.png', 0)\n",
    "    template_prev = cv2.imread('doc_prev_policy.png', 0)\n",
    "  \n",
    "    img = getBoxed(img.copy(), img_gray.copy(),\n",
    "                       template_add, 'address')\n",
    "  \n",
    "    img = getBoxed(img.copy(), img_gray.copy(),\n",
    "                   template_prev, 'prev_policy_no')\n",
    "  \n",
    "    cv2.imshow('Detected', img)"
   ]
  },
  {
   "cell_type": "code",
   "execution_count": null,
   "metadata": {},
   "outputs": [],
   "source": []
  }
 ],
 "metadata": {
  "kernelspec": {
   "display_name": "Python 3",
   "language": "python",
   "name": "python3"
  },
  "language_info": {
   "codemirror_mode": {
    "name": "ipython",
    "version": 3
   },
   "file_extension": ".py",
   "mimetype": "text/x-python",
   "name": "python",
   "nbconvert_exporter": "python",
   "pygments_lexer": "ipython3",
   "version": "3.10.6"
  },
  "orig_nbformat": 4
 },
 "nbformat": 4,
 "nbformat_minor": 2
}
