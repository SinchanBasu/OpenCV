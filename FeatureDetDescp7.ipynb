{
 "cells": [
  {
   "cell_type": "code",
   "execution_count": null,
   "metadata": {},
   "outputs": [],
   "source": [
    "# Python | Document field detection using Template Matching\n",
    "import numpy as np\n",
    "import imutils\n",
    "import cv2\n",
    "field_threshold = { \"previous_policy_no\" : 0.7,\n",
    "                    \"address\" : 0.6,\n",
    "                  }\n",
    "def getBoxed(img,img_gray,template,field_name = \"policy_no\"):\n",
    "    w, h = template.shape[::-1] \n",
    "  \n",
    "    # Apply template matching\n",
    "    res = cv2.matchTemplate(img_gray, template,\n",
    "                           cv2.TM_CCOEFF_NORMED)\n",
    "  \n",
    "    hits = np.where(res >= field_threshold[field_name])\n",
    "  \n",
    "    # Draw a rectangle around the matched region. \n",
    "    for pt in zip(*hits[::-1]): \n",
    "        cv2.rectangle(img, pt, (pt[0] + w, pt[1] + h),\n",
    "                                    (0, 255, 255), 2)\n",
    "  \n",
    "        y = pt[1] - 10 if pt[1] - 10 > 10 else pt[1] + h + 20\n",
    "  \n",
    "        cv2.putText(img, field_name, (pt[0], y),\n",
    "            cv2.FONT_HERSHEY_SIMPLEX, 0.8, (0, 0, 255), 1)\n",
    "  \n",
    "    return img\n",
    "  \n",
    "  \n",
    "# Driver Function\n",
    "if __name__ == '__main__':\n",
    "  \n",
    "    # Read the original document image\n",
    "    img = cv2.imread('doc.png')\n",
    "        \n",
    "    # 3-d to 2-d conversion\n",
    "    img_gray = cv2.cvtColor(img, cv2.COLOR_BGR2GRAY)\n",
    "       \n",
    "    # Field templates\n",
    "    template_add = cv2.imread('doc_address.png', 0)\n",
    "    template_prev = cv2.imread('doc_prev_policy.png', 0)\n",
    "  \n",
    "    img = getBoxed(img.copy(), img_gray.copy(),\n",
    "                       template_add, 'address')\n",
    "  \n",
    "    img = getBoxed(img.copy(), img_gray.copy(),\n",
    "                   template_prev, 'prev_policy_no')\n",
    "  \n",
    "    cv2.imshow('Detected', img)"
   ]
  },
  {
   "cell_type": "code",
   "execution_count": null,
   "metadata": {},
   "outputs": [],
   "source": []
  }
 ],
 "metadata": {
  "kernelspec": {
   "display_name": "Python 3",
   "language": "python",
   "name": "python3"
  },
  "language_info": {
   "codemirror_mode": {
    "name": "ipython",
    "version": 3
   },
   "file_extension": ".py",
   "mimetype": "text/x-python",
   "name": "python",
   "nbconvert_exporter": "python",
   "pygments_lexer": "ipython3",
   "version": "3.10.6"
  },
  "orig_nbformat": 4
 },
 "nbformat": 4,
 "nbformat_minor": 2
}
