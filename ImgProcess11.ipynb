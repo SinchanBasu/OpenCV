{
 "cells": [
  {
   "cell_type": "code",
   "execution_count": 1,
   "metadata": {},
   "outputs": [],
   "source": [
    "# Python | Thresholding techniques using OpenCV | Set-2 (Adaptive Thresholding)\n",
    "import cv2\n",
    "import numpy as np\n",
    "\n",
    "image1 = cv2.imread('input8.jpg')\n",
    "\n",
    "img = cv2.cvtColor(image1,cv2.COLOR_BGR2GRAY)\n",
    "\n",
    "thresh1 = cv2.adaptiveThreshold(img,255,cv2.ADAPTIVE_THRESH_MEAN_C,cv2.THRESH_BINARY,199,5)\n",
    "thresh2 = cv2.adaptiveThreshold(img,255,cv2.ADAPTIVE_THRESH_GAUSSIAN_C,cv2.THRESH_BINARY,199,5)\n",
    "\n",
    "cv2.imshow('Adaptive Mean',thresh1)\n",
    "cv2.imshow('Adaptive Gaussian',thresh2)\n",
    "\n",
    "if cv2.waitKey(0) & 0xff==27:\n",
    "    cv2.destroyAllWindows()"
   ]
  },
  {
   "cell_type": "code",
   "execution_count": null,
   "metadata": {},
   "outputs": [],
   "source": []
  }
 ],
 "metadata": {
  "kernelspec": {
   "display_name": "Python 3",
   "language": "python",
   "name": "python3"
  },
  "language_info": {
   "codemirror_mode": {
    "name": "ipython",
    "version": 3
   },
   "file_extension": ".py",
   "mimetype": "text/x-python",
   "name": "python",
   "nbconvert_exporter": "python",
   "pygments_lexer": "ipython3",
   "version": "3.10.6"
  },
  "orig_nbformat": 4
 },
 "nbformat": 4,
 "nbformat_minor": 2
}
