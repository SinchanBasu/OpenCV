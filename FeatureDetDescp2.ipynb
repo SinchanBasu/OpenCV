{
 "cells": [
  {
   "cell_type": "code",
   "execution_count": 1,
   "metadata": {},
   "outputs": [],
   "source": [
    "# Circle Detection using OpenCV | Python\n",
    "import cv2\n",
    "import numpy as np\n",
    "img = cv2.imread('eyes.jpg',cv2.IMREAD_COLOR)\n",
    "gray = cv2.cvtColor(img, cv2.COLOR_BGR2GRAY)\n",
    "gray_blurred = cv2.blur(gray,(3,3))\n",
    "detected_circles = cv2.HoughCircles(gray_blurred,\n",
    "                                    cv2.HOUGH_GRADIENT,1,20,param1 = 50,\n",
    "                                    param2 = 30, minRadius=1, maxRadius = 40)\n",
    "if detected_circles is not None:\n",
    "    detected_circles = np.uint16(np.around(detected_circles))\n",
    "    for pt in detected_circles[0,:]:\n",
    "        a,b,r = pt[0],pt[1],pt[2]\n",
    "        cv2.circle(img,(a,b),r,(0,255,0),2)\n",
    "        cv2.circle(img,(a,b),1,(0,255,0),3)\n",
    "        cv2.imshow(\"Detected circle\",img)\n",
    "        cv2.waitKey(0) \n",
    "    "
   ]
  },
  {
   "cell_type": "code",
   "execution_count": null,
   "metadata": {},
   "outputs": [],
   "source": []
  },
  {
   "cell_type": "code",
   "execution_count": null,
   "metadata": {},
   "outputs": [],
   "source": []
  }
 ],
 "metadata": {
  "kernelspec": {
   "display_name": "Python 3",
   "language": "python",
   "name": "python3"
  },
  "language_info": {
   "codemirror_mode": {
    "name": "ipython",
    "version": 3
   },
   "file_extension": ".py",
   "mimetype": "text/x-python",
   "name": "python",
   "nbconvert_exporter": "python",
   "pygments_lexer": "ipython3",
   "version": "3.10.6"
  },
  "orig_nbformat": 4
 },
 "nbformat": 4,
 "nbformat_minor": 2
}
