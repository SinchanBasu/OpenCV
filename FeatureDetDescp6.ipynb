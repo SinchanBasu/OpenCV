{
 "cells": [
  {
   "cell_type": "code",
   "execution_count": 5,
   "metadata": {},
   "outputs": [
    {
     "ename": "error",
     "evalue": "OpenCV(4.7.0) D:\\a\\opencv-python\\opencv-python\\opencv\\modules\\imgproc\\src\\color.cpp:182: error: (-215:Assertion failed) !_src.empty() in function 'cv::cvtColor'\n",
     "output_type": "error",
     "traceback": [
      "\u001b[1;31m---------------------------------------------------------------------------\u001b[0m",
      "\u001b[1;31merror\u001b[0m                                     Traceback (most recent call last)",
      "Cell \u001b[1;32mIn[5], line 36\u001b[0m\n\u001b[0;32m     34\u001b[0m \u001b[39m# Draw blobs on our image as red circles\u001b[39;00m\n\u001b[0;32m     35\u001b[0m blank \u001b[39m=\u001b[39m np\u001b[39m.\u001b[39mzeros((\u001b[39m1\u001b[39m, \u001b[39m1\u001b[39m)) \n\u001b[1;32m---> 36\u001b[0m blobs \u001b[39m=\u001b[39m cv2\u001b[39m.\u001b[39;49mdrawKeypoints(image, keypoints, blank, (\u001b[39m0\u001b[39;49m, \u001b[39m0\u001b[39;49m, \u001b[39m255\u001b[39;49m),\n\u001b[0;32m     37\u001b[0m                           cv2\u001b[39m.\u001b[39;49mDRAW_MATCHES_FLAGS_DRAW_RICH_KEYPOINTS)\n\u001b[0;32m     39\u001b[0m number_of_blobs \u001b[39m=\u001b[39m \u001b[39mlen\u001b[39m(keypoints)\n\u001b[0;32m     40\u001b[0m text \u001b[39m=\u001b[39m \u001b[39m\"\u001b[39m\u001b[39mNumber of Circular Blobs: \u001b[39m\u001b[39m\"\u001b[39m \u001b[39m+\u001b[39m \u001b[39mstr\u001b[39m(\u001b[39mlen\u001b[39m(keypoints))\n",
      "\u001b[1;31merror\u001b[0m: OpenCV(4.7.0) D:\\a\\opencv-python\\opencv-python\\opencv\\modules\\imgproc\\src\\color.cpp:182: error: (-215:Assertion failed) !_src.empty() in function 'cv::cvtColor'\n"
     ]
    }
   ],
   "source": [
    "# Find Circles and Ellipses in an Image using OpenCV | Python\n",
    "import cv2\n",
    "import numpy as np\n",
    "  \n",
    "# Load image\n",
    "image = cv2.imread('D://OpenCV//blobs.jpg',0)\n",
    "  \n",
    "# Set our filtering parameters\n",
    "# Initialize parameter setting using cv2.SimpleBlobDetector\n",
    "params = cv2.SimpleBlobDetector_Params()\n",
    "  \n",
    "# Set Area filtering parameters\n",
    "params.filterByArea = True\n",
    "params.minArea = 100\n",
    "  \n",
    "# Set Circularity filtering parameters\n",
    "params.filterByCircularity = True \n",
    "params.minCircularity = 0.9\n",
    "  \n",
    "# Set Convexity filtering parameters\n",
    "params.filterByConvexity = True\n",
    "params.minConvexity = 0.2\n",
    "      \n",
    "# Set inertia filtering parameters\n",
    "params.filterByInertia = True\n",
    "params.minInertiaRatio = 0.01\n",
    "  \n",
    "# Create a detector with the parameters\n",
    "detector = cv2.SimpleBlobDetector_create(params)\n",
    "      \n",
    "# Detect blobs\n",
    "keypoints = detector.detect(image)\n",
    "  \n",
    "# Draw blobs on our image as red circles\n",
    "blank = np.zeros((1, 1)) \n",
    "blobs = cv2.drawKeypoints(image, keypoints, blank, (0, 0, 255),\n",
    "                          cv2.DRAW_MATCHES_FLAGS_DRAW_RICH_KEYPOINTS)\n",
    "  \n",
    "number_of_blobs = len(keypoints)\n",
    "text = \"Number of Circular Blobs: \" + str(len(keypoints))\n",
    "cv2.putText(blobs, text, (20, 550),\n",
    "            cv2.FONT_HERSHEY_SIMPLEX, 1, (0, 100, 255), 2)\n",
    "  \n",
    "# Show blobs\n",
    "cv2.imshow(\"Filtering Circular Blobs Only\", blobs)\n",
    "cv2.waitKey(0)\n",
    "cv2.destroyAllWindows()"
   ]
  },
  {
   "cell_type": "code",
   "execution_count": null,
   "metadata": {},
   "outputs": [],
   "source": []
  }
 ],
 "metadata": {
  "kernelspec": {
   "display_name": "Python 3",
   "language": "python",
   "name": "python3"
  },
  "language_info": {
   "codemirror_mode": {
    "name": "ipython",
    "version": 3
   },
   "file_extension": ".py",
   "mimetype": "text/x-python",
   "name": "python",
   "nbconvert_exporter": "python",
   "pygments_lexer": "ipython3",
   "version": "3.10.6"
  },
  "orig_nbformat": 4
 },
 "nbformat": 4,
 "nbformat_minor": 2
}
